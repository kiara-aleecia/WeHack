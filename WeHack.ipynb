{
  "nbformat": 4,
  "nbformat_minor": 0,
  "metadata": {
    "colab": {
      "name": "WeHack.ipynb",
      "provenance": [],
      "collapsed_sections": []
    },
    "kernelspec": {
      "name": "python3",
      "display_name": "Python 3"
    }
  },
  "cells": [
    {
      "cell_type": "code",
      "metadata": {
        "id": "jK5o0okd_biy"
      },
      "source": [
        "import requests\n",
        "import string\n",
        "from lxml import html\n",
        "from googlesearch import search\n",
        "from bs4 import BeautifulSoup\n",
        "\n",
        "# to search\n",
        "# print(chatbot_query('how old is samuel l jackson'))\n",
        "\n",
        "def chatbot_query(query, index=0):\n",
        "    fallback = 'Sorry, I cannot think of a reply for that.'\n",
        "    result = ''\n",
        "\n",
        "    try:\n",
        "        search_result_list = list(search(query, tld=\"co.in\", num=10, stop=3, pause=1))\n",
        "\n",
        "        page = requests.get(search_result_list[index])\n",
        "\n",
        "        tree = html.fromstring(page.content)\n",
        "\n",
        "        soup = BeautifulSoup(page.content, features=\"lxml\")\n",
        "\n",
        "        article_text = ''\n",
        "        article = soup.findAll('p')\n",
        "        for element in article:\n",
        "            article_text += '\\n' + ''.join(element.findAll(text = True))\n",
        "        article_text = article_text.replace('\\n', '')\n",
        "        first_sentence = article_text.split('.')\n",
        "        first_sentence = first_sentence[0].split('?')[0]\n",
        "\n",
        "        chars_without_whitespace = first_sentence.translate(\n",
        "            { ord(c): None for c in string.whitespace }\n",
        "        )\n",
        "\n",
        "        if len(chars_without_whitespace) > 0:\n",
        "            result = first_sentence\n",
        "        else:\n",
        "            result = fallback\n",
        "\n",
        "        return result\n",
        "    except:\n",
        "        if len(result) == 0: result = fallback\n",
        "        return result"
      ],
      "execution_count": null,
      "outputs": []
    },
    {
      "cell_type": "code",
      "metadata": {
        "id": "KiMTomBlQy4Q",
        "outputId": "558ab0f0-e998-40b8-c2d9-38dfd51de634",
        "colab": {
          "base_uri": "https://localhost:8080/",
          "height": 130
        }
      },
      "source": [
        "const submitButton = document.getElementById('submitButton');\n",
        "const chatbotInput = document.getElementById('chatbotInput');\n",
        "const chatbotOutput = document.getElementById('chatbotOutput');\n",
        "\n",
        "submitButton.onclick = userSubmitEventHandler;\n",
        "chatbotInput.onkeyup = userSubmitEventHandler;\n",
        "\n",
        "function userSubmitEventHandler(event) {\n",
        "    if (\n",
        "        (event.keyCode && event.keyCode === 13) ||\n",
        "        event.type === 'click'\n",
        "    ) {\n",
        "        chatbotOutput.innerText = 'thinking...';\n",
        "        askChatBot(chatbotInput.value);\n",
        "    }\n",
        "}\n",
        "\n",
        "function askChatBot(userInput) {\n",
        "    const myRequest = new Request('/', {\n",
        "        method: 'POST',\n",
        "        body: userInput\n",
        "    });\n",
        "\n",
        "    fetch(myRequest).then(function(response) {\n",
        "        if (!response.ok) {\n",
        "            throw new Error('HTTP error, status = ' + response.status);\n",
        "        } else {\n",
        "            return response.text();\n",
        "        }\n",
        "    }).then(function(text) {\n",
        "        chatbotInput.value = '';\n",
        "        chatbotOutput.innerText = text;\n",
        "    }).catch((err) => {\n",
        "        console.error(err);\n",
        "    });\n",
        "}"
      ],
      "execution_count": null,
      "outputs": [
        {
          "output_type": "error",
          "ename": "SyntaxError",
          "evalue": "ignored",
          "traceback": [
            "\u001b[0;36m  File \u001b[0;32m\"<ipython-input-43-a8168a75053b>\"\u001b[0;36m, line \u001b[0;32m1\u001b[0m\n\u001b[0;31m    const submitButton = document.getElementById('submitButton');\u001b[0m\n\u001b[0m                     ^\u001b[0m\n\u001b[0;31mSyntaxError\u001b[0m\u001b[0;31m:\u001b[0m invalid syntax\n"
          ]
        }
      ]
    },
    {
      "cell_type": "code",
      "metadata": {
        "id": "uWNFYSZ0KhuM"
      },
      "source": [
        "!pip install chatterbot\n"
      ],
      "execution_count": null,
      "outputs": []
    },
    {
      "cell_type": "code",
      "metadata": {
        "id": "Ik52Ei-LJeKt"
      },
      "source": [
        "import http.server\n",
        "import socketserver\n",
        "from googlesearch import chatterbot\n",
        "\n",
        "PORT = 8080\n",
        "DIRECTORY = 'public'\n",
        "\n",
        "class Handler(http.server.SimpleHTTPRequestHandler):\n",
        "    def __init__(self, *args, **kwargs):\n",
        "        super().__init__(*args, directory=DIRECTORY, **kwargs)\n",
        "\n",
        "    def do_POST(self):\n",
        "        self.send_response(200)\n",
        "        content_length = int(self.headers['Content-Length'])\n",
        "        post_body = self.rfile.read(content_length)\n",
        "        self.end_headers()\n",
        "        print('user query', post_body)\n",
        "        googlesearch = chatterbot(post_body)\n",
        "        self.wfile.write(str.encode(googlesearch))\n",
        "\n",
        "with socketserver.TCPServer(('', PORT), Handler) as httpd:\n",
        "    print('serving at port', PORT)\n",
        "    try:\n",
        "        httpd.serve_forever()\n",
        "    except KeyboardInterrupt:\n",
        "        pass\n",
        "    httpd.server_close()"
      ],
      "execution_count": null,
      "outputs": []
    },
    {
      "cell_type": "code",
      "metadata": {
        "id": "8nVZGdesSOdT"
      },
      "source": [
        "import http.server\n",
        "import socketserver\n",
        "from google_search import chatbot_query\n",
        "\n",
        "PORT = 8080\n",
        "DIRECTORY = 'public'\n",
        "\n",
        "class Handler(http.server.SimpleHTTPRequestHandler):\n",
        "    def __init__(self, *args, **kwargs):\n",
        "        super().__init__(*args, directory=DIRECTORY, **kwargs)\n",
        "\n",
        "    def do_POST(self):\n",
        "        self.send_response(200)\n",
        "        content_length = int(self.headers['Content-Length'])\n",
        "        post_body = self.rfile.read(content_length)\n",
        "        self.end_headers()\n",
        "        print('user query', post_body)\n",
        "        google_search_chatbot_reply = chatbot_query(post_body)\n",
        "        self.wfile.write(str.encode(google_search_chatbot_reply))\n",
        "\n",
        "with socketserver.TCPServer(('', PORT), Handler) as httpd:\n",
        "    print('serving at port', PORT)\n",
        "    try:\n",
        "        httpd.serve_forever()\n",
        "    except KeyboardInterrupt:\n",
        "        pass\n",
        "    httpd.server_close()"
      ],
      "execution_count": null,
      "outputs": []
    },
    {
      "cell_type": "code",
      "metadata": {
        "id": "ymfnnXgISdge"
      },
      "source": [
        "<!DOCTYPE html>\n",
        "<html>\n",
        "<head>\n",
        "    <meta name=\"viewport\" content=\"width=device-width, initial-scale=1.0\">\n",
        "    <link rel=\"stylesheet\" type=\"text/css\" href=\"./style.css\">\n",
        "    <title>Google Based ChatBot</title>\n",
        "</head>\n",
        "<body>\n",
        "    <img class=\"chatbotImage\" src=\"./chatbot.png\" />\n",
        "    <span id=\"chatbotOutput\" class=\"chatbotOutput\">Find a UTD website:</span>\n",
        "    <input id=\"chatbotInput\" class=\"chatbotInput\" />\n",
        "    <input id=\"submitButton\" type=\"submit\" />\n",
        "    <script src='./app.js'></script>\n",
        "</body>\n",
        "</html>"
      ],
      "execution_count": null,
      "outputs": []
    },
    {
      "cell_type": "code",
      "metadata": {
        "id": "GCFiLvdsSykD"
      },
      "source": [
        "html, body {\n",
        "    margin: 0px;\n",
        "    width: 100vw;\n",
        "    height: 100vh;\n",
        "    font-family: arial;\n",
        "    overflow: hidden;\n",
        "}\n",
        "\n",
        ".chatbotImage {\n",
        "    margin-top: 40px;\n",
        "    width: 35vw;\n",
        "}\n",
        "\n",
        ".chatbotOutput {\n",
        "    font-size: 45px;\n",
        "}\n",
        "\n",
        ".chatbotInput {\n",
        "    margin-top: 10px;\n",
        "    width: 55vw;\n",
        "    padding: 20px;\n",
        "    font-size: 25px;\n",
        "}\n",
        "\n",
        "input,\n",
        "span,\n",
        "img {\n",
        "    display: block;\n",
        "    margin: auto;\n",
        "    text-align: center;\n",
        "}"
      ],
      "execution_count": null,
      "outputs": []
    }
  ]
}